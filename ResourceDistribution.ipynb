{
 "cells": [
  {
   "cell_type": "markdown",
   "metadata": {},
   "source": [
    "## Welcome\n",
    "\n",
    "To select origin location left click \n",
    "To select destination location right-click\n",
    "\n"
   ]
  },
  {
   "cell_type": "code",
   "execution_count": 1,
   "metadata": {},
   "outputs": [],
   "source": [
    "# Import libraries\n",
    "import os\n",
    "\n",
    "# for mapping and creating widgets\n",
    "import ee\n",
    "import geemap\n",
    "import ipywidgets as widgets\n",
    "from bqplot import pyplot as plt\n",
    "from ipyleaflet import WidgetControl\n",
    "from ipywidgets import Label\n",
    "import folium\n",
    "\n",
    "# open source routing \n",
    "\n",
    "import openrouteservice as ors\n"
   ]
  },
  {
   "cell_type": "code",
   "execution_count": 2,
   "metadata": {},
   "outputs": [
    {
     "name": "stdout",
     "output_type": "stream",
     "text": [
      "Downloading https://raw.githubusercontent.com/cotag11/puerto-rico-files/main/available.csv ...\n",
      "Data downloaded to: C:\\Users\\Gizelle\\Downloads\\available.csv\n",
      "Downloading https://raw.githubusercontent.com/cotag11/puerto-rico-files/main/needed.csv ...\n",
      "Data downloaded to: C:\\Users\\Gizelle\\Downloads\\needed.csv\n"
     ]
    },
    {
     "data": {
      "application/vnd.jupyter.widget-view+json": {
       "model_id": "94a3f007857140e9beca39b5657da013",
       "version_major": 2,
       "version_minor": 0
      },
      "text/plain": [
       "Map(center=[18.25, -66.25], controls=(WidgetControl(options=['position'], widget=HBox(children=(ToggleButton(v…"
      ]
     },
     "metadata": {},
     "output_type": "display_data"
    }
   ],
   "source": [
    "# Create an interactive map\n",
    "Map = geemap.Map(center=[18.25, -66.25], zoom=9, add_google_map=False)\n",
    "Map.add_basemap('Esri National Geographic') # nat geo basemap\n",
    "\n",
    "\n",
    "# pulling in resources layers\n",
    "available_csv= 'https://raw.githubusercontent.com/cotag11/puerto-rico-files/main/available.csv'\n",
    "needed_csv= 'https://raw.githubusercontent.com/cotag11/puerto-rico-files/main/needed.csv'\n",
    "#obstructions_csv= 'https://raw.githubusercontent.com/cotag11/puerto-rico-files/main/obstructions.csv'\n",
    "\n",
    "# converting data to ee objects\n",
    "available = geemap.xy_to_points(available_csv, latitude='y', longitude='x')\n",
    "needed = geemap.xy_to_points(needed_csv, latitude='y', longitude='x')\n",
    "#obstructions = geemap.xy_to_points(obstructions_csv, latitude='y', longitude='x')\n",
    "\n",
    "Map.addLayer(available, {'color': 'green'}, 'Available Resources')\n",
    "Map.addLayer(needed, {'color': 'red'}, 'Needed Resources')\n",
    "#Map.addLayer(obstructions, {'color': 'black'}, 'Roads Blocked available')Map.addLayerControl()\n",
    "Map"
   ]
  },
  {
   "cell_type": "code",
   "execution_count": 3,
   "metadata": {},
   "outputs": [
    {
     "data": {
      "application/vnd.jupyter.widget-view+json": {
       "model_id": "83c30f9bd146430ea0c0160453bc1677",
       "version_major": 2,
       "version_minor": 0
      },
      "text/plain": [
       "VBox(children=(HBox(children=(FloatText(value=0.0, description='Origin Lat:'), FloatText(value=-0.0, descripti…"
      ]
     },
     "metadata": {},
     "output_type": "display_data"
    }
   ],
   "source": [
    "style = {'description_width': 'initial'}\n",
    "\n",
    "# print statements are visible through this widget\n",
    "output_widget = widgets.Output(layout={'border': '1px solid black'})\n",
    "output_control = WidgetControl(widget=output_widget, position='bottomright')\n",
    "Map.add_control(output_control)\n",
    "\n",
    "# numeric widgets\n",
    "origin_lat_widget= widgets.FloatText(value=0.00, description='Origin Lat:', disabled=False)\n",
    "origin_lon_widget= widgets.FloatText(value=-0.0,description='Origin Long:',disabled=False)\n",
    "destin_lat_widget= widgets.FloatText(value=0.0, description='Dest. Lat:',  disabled=False)\n",
    "destin_lon_widget= widgets.FloatText(value=-0.00,description='Dest. Long:', disabled=False)\n",
    "\n",
    "# 'submit' button\n",
    "submit = widgets.Button(description='Calculate route', button_style='primary', tooltip='Click me', style=style)\n",
    "\n",
    "download_widget = widgets.Checkbox(value=False,description='Download Route directions',style=style)\n",
    "\n",
    "# combined widgets\n",
    "full_widget = widgets.VBox([  # vertical box\n",
    "    widgets.HBox([origin_lat_widget, origin_lon_widget, download_widget]), # horizontal box\n",
    "    widgets.HBox([destin_lat_widget, destin_lon_widget, submit]) # horizontal box\n",
    "])\n",
    "\n",
    "full_widget"
   ]
  },
  {
   "cell_type": "code",
   "execution_count": 13,
   "metadata": {},
   "outputs": [],
   "source": [
    "# get origin and destination values through user interaction\n",
    "\n",
    "def handle_interaction(**kwargs):\n",
    "    latlon = kwargs.get('coordinates')\n",
    "      # clears previous messages\n",
    "    \n",
    "    if kwargs.get('type') == 'click' : # specify left click  for origin location\n",
    "        Map.default_style = {'cursor': 'wait'} \n",
    "        output_widget.clear_output()\n",
    "        # inverses the lat long postions\n",
    "        xy = ee.Geometry.Point(latlon[::-1]) \n",
    "        \n",
    "        try:\n",
    "            # puts numeric values in the widget based on where it was clicked\n",
    "            origin_lat_widget.value = float(latlon[0]) \n",
    "            origin_lon_widget.value = float(latlon[1])\n",
    "            \n",
    "            # removes destination location- by specifying a value of 0\n",
    "            destin_lat_widget.value= float(0.00)\n",
    "            destin_lon_widget.value= float(0.00)\n",
    "            \n",
    "            # only the first five layers are displayed\n",
    "            Map.layers = Map.layers[:4]\n",
    "            \n",
    "            # 'origin' location is plotted\n",
    "            Map.addLayer(xy, {'color':'yellow', 'size':'7'}) \n",
    "        \n",
    "        # Suggestion: filter locations such that they are within Puerto Rico (optional), not within water, and close to roads\n",
    "        \n",
    "        except:\n",
    "            print('No feature could be found')\n",
    "            Map.layers = Map.layers[:4]    \n",
    "     \n",
    "        Map.default_style = {'cursor': 'pointer'}\n",
    "        \n",
    "    elif kwargs.get('type') == 'contextmenu': # specify right click for destination locations\n",
    "        Map.default_style = {'cursor': 'wait'}\n",
    "        xy = ee.Geometry.Point(latlon[::-1])\n",
    "        \n",
    "        try: \n",
    "            # puts numeric values in the widget based on where it was clicked\n",
    "            destin_lat_widget.value= float(latlon[0])\n",
    "            destin_lon_widget.value= float(latlon[1])\n",
    "            \n",
    "            Map.layers = Map.layers[:5]\n",
    "            \n",
    "            # 'destination' location is plotted \n",
    "            Map.addLayer(xy, {'color':'blue', 'size':'7'}) \n",
    "            \n",
    "        # Suggestion: filter locations such that they are within Puerto Rico (optional), not within water, and close to roads   \n",
    "        except: \n",
    "            print('No feature could be found')\n",
    "            Map.layers = Map.layers[:5]   \n",
    "\n",
    "        Map.default_style = {'cursor': 'pointer'}\n",
    "  \n",
    "\n",
    "    else:\n",
    "        Map.draw_count = 0\n",
    "\n",
    "Map.on_interaction(handle_interaction)"
   ]
  },
  {
   "cell_type": "code",
   "execution_count": 9,
   "metadata": {},
   "outputs": [],
   "source": [
    "# defines what happens when the submit button is clicked\n",
    "\n",
    "def submit_clicked(b):\n",
    "      with output_widget:\n",
    "        output_widget.clear_output()\n",
    "\n",
    "        Map.default_style = {'cursor': 'wait'}\n",
    "        try:\n",
    "            # get lat long values for origin and destination \n",
    "            origin_lat_id = origin_lat_widget.value\n",
    "            origin_lon_id = origin_lon_widget.value\n",
    "            destin_lat_id = destin_lat_widget.value\n",
    "            destin_lon_id = destin_lon_widget.value\n",
    "\n",
    "            # calculate route here\n",
    "            client = ors.Client(key='5b3ce3597851110001cf6248e5263feb3dc247cfb7b2d52fe7725e10') # 2000 quota for 24 hours\n",
    "            # link to create your own key/ keys : https://openrouteservice.org/dev/#/login \n",
    "            \n",
    "            coordinates = [[origin_lon_id, origin_lat_id], [destin_lon_id, destin_lat_id]] # coordinates order is [lon, lat]\n",
    "            route = client.directions(coordinates=coordinates, profile='driving-car',  format='geojson')\n",
    "            # profile options: driving-car, driving-hgv, foot-walking, foot-hiking, cycling-regular, cycling-road, cycling-mountain, cycling-electric\n",
    "            # the open source package throws an error if asked to compute distance between two points that aren't close to roads\n",
    "            \n",
    "            route_json= geemap.geojson_to_ee(route) # geemap requires it to be in ee.Geometry format\n",
    "          \n",
    "            Map.addLayer(route_json)  \n",
    "            \n",
    "            # Travel distance (miles) and time (minutes)\n",
    "            print('Total Distance:', round(route['features'][0]['properties']['segments'][0]['distance']*0.000621371, 2), 'miles', \n",
    "                  'Total Time:', round(route['features'][0]['properties']['segments'][0]['duration']*0.016666667, 2),'mins')\n",
    "\n",
    "            download = download_widget.value # checks if download widget is clicked\n",
    "            \n",
    "            # downloads / prints directions\n",
    "            if download: \n",
    "                out_dir = os.path.join(os.path.expanduser('~'), 'Downloads')\n",
    "                out_name = 'Directions_' + geemap.random_string() + '.txt'\n",
    "                out_file = os.path.join(out_dir, out_name)\n",
    "\n",
    "                if not os.path.exists(out_dir):\n",
    "                    os.makedirs(out_dir)\n",
    "                with open(out_file, 'w') as f:\n",
    "                    f.write('Directions: \\n')\n",
    "                    for index, i in enumerate(route['features'][0]['properties']['segments'][0]['steps']):\n",
    "                        if index==0:\n",
    "                            f.write(('{} for {} miles \\n').format(i['instruction'], round(i['distance']*0.000621371, 2)))\n",
    "                        elif index ==1: \n",
    "                            f.write(('{} \\n'.format(i['instruction'])))\n",
    "                        else:\n",
    "                            f.write(('In {} miles, {} \\n'.format(\n",
    "                                round(route['features'][0]['properties']['segments'][0]['steps'][index-1]['distance']*0.000621371, 3), \n",
    "                                i['instruction'])))\n",
    "\n",
    "                link = geemap.create_download_link(out_file, title=\"Click here to download the directions: \")\n",
    "                display(link)\n",
    "                \n",
    "            else:\n",
    "                print('Directions: ')\n",
    "                for index, i in enumerate(route['features'][0]['properties']['segments'][0]['steps']):\n",
    "                    if index==0:\n",
    "                        print(('{} for {} miles').format(i['instruction'], round(i['distance']*0.000621371, 2)))\n",
    "                    elif index ==1: \n",
    "                        print(i['instruction'])\n",
    "                    else:\n",
    "                        print(('In {} miles, {}'.format(\n",
    "                            round(route['features'][0]['properties']['segments'][0]['steps'][index-1]['distance']*0.000621371, 3), \n",
    "                            i['instruction'])))\n",
    "                \n",
    "        except Exception as e:\n",
    "            print(e)\n",
    "            print('An error occurred during computation.')        \n",
    "\n",
    "        Map.default_style = {'cursor': 'default'}\n",
    "\n",
    "\n",
    "submit.on_click(submit_clicked)"
   ]
  },
  {
   "cell_type": "code",
   "execution_count": null,
   "metadata": {},
   "outputs": [],
   "source": []
  }
 ],
 "metadata": {
  "kernelspec": {
   "display_name": "Python 3",
   "language": "python",
   "name": "python3"
  },
  "language_info": {
   "codemirror_mode": {
    "name": "ipython",
    "version": 3
   },
   "file_extension": ".py",
   "mimetype": "text/x-python",
   "name": "python",
   "nbconvert_exporter": "python",
   "pygments_lexer": "ipython3",
   "version": "3.8.5"
  }
 },
 "nbformat": 4,
 "nbformat_minor": 4
}
